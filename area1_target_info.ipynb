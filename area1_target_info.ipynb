{
 "cells": [
  {
   "cell_type": "code",
   "execution_count": 1,
   "metadata": {
    "pycharm": {
     "name": "#%%\n"
    }
   },
   "outputs": [
    {
     "name": "stderr",
     "output_type": "stream",
     "text": [
      "WARNING:ToolkitGenerator:class \"pairwise interaction association\" slot \"interacting molecules category\" does not reference an existing slot.  New slot was created.\n",
      "WARNING:ToolkitGenerator:Unrecognized prefix: SEMMEDDB\n",
      "WARNING:ToolkitGenerator:Unrecognized prefix: WD\n",
      "WARNING:ToolkitGenerator:Unrecognized prefix: dct\n",
      "WARNING:ToolkitGenerator:Unrecognized prefix: ExO\n",
      "WARNING:ToolkitGenerator:Unrecognized prefix: HANCESTRO\n",
      "WARNING:ToolkitGenerator:Unrecognized prefix: BioSample\n",
      "WARNING:ToolkitGenerator:Unrecognized prefix: PUBCHEM\n",
      "WARNING:ToolkitGenerator:Unrecognized prefix: GTOPDB\n",
      "WARNING:ToolkitGenerator:Unrecognized prefix: IUPHAR\n",
      "WARNING:ToolkitGenerator:Unrecognized prefix: UNIPROTKB\n",
      "WARNING:ToolkitGenerator:Unrecognized prefix: RNAcentral\n",
      "WARNING:ToolkitGenerator:Unrecognized prefix: IntAct\n",
      "WARNING:ToolkitGenerator:Unrecognized prefix: Reactome\n",
      "WARNING:ToolkitGenerator:Unrecognized prefix: VMC\n",
      "WARNING:ToolkitGenerator:Unrecognized prefix: CAID\n",
      "WARNING:ToolkitGenerator:Unrecognized prefix: CIViC\n",
      "WARNING:ToolkitGenerator:Unrecognized prefix: HGVS\n",
      "WARNING:ToolkitGenerator:Unrecognized prefix: MYVARIANT_HG19\n",
      "WARNING:ToolkitGenerator:Unrecognized prefix: MYVARIANT_HG38\n",
      "WARNING:ToolkitGenerator:Unrecognized prefix: ECTO\n",
      "WARNING:ToolkitGenerator:Unrecognized prefix: PHARMGKB\n"
     ]
    },
    {
     "name": "stdout",
     "output_type": "stream",
     "text": [
      "Area 1 Target info\n"
     ]
    }
   ],
   "source": [
    "import os\n",
    "import re\n",
    "from kg_covid_19.query import run_query\n",
    "from pandas import read_csv\n",
    "import urllib.parse\n",
    "import urllib.request\n",
    "import pandas as pd\n",
    "import io\n",
    "import requests\n",
    "from tqdm import tqdm\n",
    "\n",
    "print(\"Area 1 Target info\")\n",
    "data_dir = 'data'"
   ]
  },
  {
   "cell_type": "code",
   "execution_count": 2,
   "outputs": [],
   "source": [
    "%run load_data.py"
   ],
   "metadata": {
    "collapsed": false,
    "pycharm": {
     "name": "#%% Set up data directory\n"
    }
   }
  },
  {
   "cell_type": "code",
   "execution_count": 4,
   "outputs": [
    {
     "name": "stderr",
     "output_type": "stream",
     "text": [
      "INFO:root:Running query TargetCandidates\n",
      "[query.py][           run_query] INFO: Running query TargetCandidates\n",
      "INFO:root:reading in data files\n",
      "[target_candidates.py][                 run] INFO: reading in data files\n",
      "INFO:root:adding annotated SARS-CoV-2 proteins from annotations\n",
      "[target_candidates.py][                 run] INFO: adding annotated SARS-CoV-2 proteins from annotations\n",
      "INFO:root:adding SARS-CoV-2 proteins PRO_ proteins\n",
      "[target_candidates.py][                 run] INFO: adding SARS-CoV-2 proteins PRO_ proteins\n",
      "INFO:root:adding SARS-CoV-2 proteins present in IntAct\n",
      "[target_candidates.py][                 run] INFO: adding SARS-CoV-2 proteins present in IntAct\n",
      "INFO:root:adding human proteins that interact with SARS-CoV-2 proteinsaccording to IntAct\n",
      "[target_candidates.py][                 run] INFO: adding human proteins that interact with SARS-CoV-2 proteinsaccording to IntAct\n",
      "100%|██████████| 100/100 [00:10<00:00,  9.30it/s]\n",
      "WARNING:root:Problem getting name for id: CHEBI:147398\n",
      "[target_candidates.py][sars_cov2_human_interactors_to_candidate_entries] WARNING: Problem getting name for id: CHEBI:147398\n",
      "WARNING:root:Problem getting name for id: UniProtKB:Q7Z5G4\n",
      "[target_candidates.py][sars_cov2_human_interactors_to_candidate_entries] WARNING: Problem getting name for id: UniProtKB:Q7Z5G4\n",
      "WARNING:root:Problem getting name for id: UniProtKB:P35613\n",
      "[target_candidates.py][sars_cov2_human_interactors_to_candidate_entries] WARNING: Problem getting name for id: UniProtKB:P35613\n",
      "WARNING:root:Problem getting name for id: UniProtKB:P0DTD1-PRO_0000449622\n",
      "[target_candidates.py][sars_cov2_human_interactors_to_candidate_entries] WARNING: Problem getting name for id: UniProtKB:P0DTD1-PRO_0000449622\n",
      "WARNING:root:Problem getting name for id: CHEBI:94291\n",
      "[target_candidates.py][sars_cov2_human_interactors_to_candidate_entries] WARNING: Problem getting name for id: CHEBI:94291\n",
      "WARNING:root:Problem getting name for id: UniProtKB:P07203\n",
      "[target_candidates.py][sars_cov2_human_interactors_to_candidate_entries] WARNING: Problem getting name for id: UniProtKB:P07203\n",
      "WARNING:root:Problem getting name for id: UniProtKB:A0A0N7H510\n",
      "[target_candidates.py][sars_cov2_human_interactors_to_candidate_entries] WARNING: Problem getting name for id: UniProtKB:A0A0N7H510\n",
      "WARNING:root:Problem getting name for id: UniProtKB:P0DTC3\n",
      "[target_candidates.py][sars_cov2_human_interactors_to_candidate_entries] WARNING: Problem getting name for id: UniProtKB:P0DTC3\n",
      "WARNING:root:Problem getting name for id: UniProtKB:P0DTC6\n",
      "[target_candidates.py][sars_cov2_human_interactors_to_candidate_entries] WARNING: Problem getting name for id: UniProtKB:P0DTC6\n",
      "WARNING:root:Problem getting name for id: UniProtKB:Q9C0B5\n",
      "[target_candidates.py][sars_cov2_human_interactors_to_candidate_entries] WARNING: Problem getting name for id: UniProtKB:Q9C0B5\n",
      "WARNING:root:Problem getting name for id: UniProtKB:P0DTD1-PRO_0000449627\n",
      "[target_candidates.py][sars_cov2_human_interactors_to_candidate_entries] WARNING: Problem getting name for id: UniProtKB:P0DTD1-PRO_0000449627\n",
      "WARNING:root:Problem getting name for id: UniProtKB:P0DTC8\n",
      "[target_candidates.py][sars_cov2_human_interactors_to_candidate_entries] WARNING: Problem getting name for id: UniProtKB:P0DTC8\n",
      "WARNING:root:Problem getting name for id: UniProtKB:P0DTD1-PRO_0000449625\n",
      "[target_candidates.py][sars_cov2_human_interactors_to_candidate_entries] WARNING: Problem getting name for id: UniProtKB:P0DTD1-PRO_0000449625\n",
      "WARNING:root:Problem getting name for id: UniProtKB:Q9UJZ1\n",
      "[target_candidates.py][sars_cov2_human_interactors_to_candidate_entries] WARNING: Problem getting name for id: UniProtKB:Q9UJZ1\n",
      "WARNING:root:Problem getting name for id: UniProtKB:P0DTD8\n",
      "[target_candidates.py][sars_cov2_human_interactors_to_candidate_entries] WARNING: Problem getting name for id: UniProtKB:P0DTD8\n",
      "WARNING:root:Problem getting name for id: UniProtKB:P0DTD1-PRO_0000449633\n",
      "[target_candidates.py][sars_cov2_human_interactors_to_candidate_entries] WARNING: Problem getting name for id: UniProtKB:P0DTD1-PRO_0000449633\n",
      "WARNING:root:Problem getting name for id: CHEBI:4659\n",
      "[target_candidates.py][sars_cov2_human_interactors_to_candidate_entries] WARNING: Problem getting name for id: CHEBI:4659\n",
      "WARNING:root:Problem getting name for id: CHEBI:77543\n",
      "[target_candidates.py][sars_cov2_human_interactors_to_candidate_entries] WARNING: Problem getting name for id: CHEBI:77543\n",
      "WARNING:root:Problem getting name for id: UniProtKB:P0DTD1-PRO_0000449620\n",
      "[target_candidates.py][sars_cov2_human_interactors_to_candidate_entries] WARNING: Problem getting name for id: UniProtKB:P0DTD1-PRO_0000449620\n",
      "WARNING:root:Problem getting name for id: UniProtKB:O75347\n",
      "[target_candidates.py][sars_cov2_human_interactors_to_candidate_entries] WARNING: Problem getting name for id: UniProtKB:O75347\n",
      "WARNING:root:Problem getting name for id: UniProtKB:P0DTD1-PRO_0000449629\n",
      "[target_candidates.py][sars_cov2_human_interactors_to_candidate_entries] WARNING: Problem getting name for id: UniProtKB:P0DTD1-PRO_0000449629\n",
      "WARNING:root:Problem getting name for id: UniProtKB:Q695T7\n",
      "[target_candidates.py][sars_cov2_human_interactors_to_candidate_entries] WARNING: Problem getting name for id: UniProtKB:Q695T7\n",
      "WARNING:root:Problem getting name for id: UniProtKB:P0DTD1-PRO_0000449619\n",
      "[target_candidates.py][sars_cov2_human_interactors_to_candidate_entries] WARNING: Problem getting name for id: UniProtKB:P0DTD1-PRO_0000449619\n",
      "WARNING:root:Problem getting name for id: INTACT:EBI-25498052\n",
      "[target_candidates.py][sars_cov2_human_interactors_to_candidate_entries] WARNING: Problem getting name for id: INTACT:EBI-25498052\n",
      "WARNING:root:Problem getting name for id: UniProtKB:Q9NXH9\n",
      "[target_candidates.py][sars_cov2_human_interactors_to_candidate_entries] WARNING: Problem getting name for id: UniProtKB:Q9NXH9\n",
      "WARNING:root:Problem getting name for id: CHEBI:31360\n",
      "[target_candidates.py][sars_cov2_human_interactors_to_candidate_entries] WARNING: Problem getting name for id: CHEBI:31360\n",
      "WARNING:root:Problem getting name for id: UniProtKB:P0DTD1-PRO_0000449628\n",
      "[target_candidates.py][sars_cov2_human_interactors_to_candidate_entries] WARNING: Problem getting name for id: UniProtKB:P0DTD1-PRO_0000449628\n",
      "WARNING:root:Problem getting name for id: UniProtKB:Q9BYF1\n",
      "[target_candidates.py][sars_cov2_human_interactors_to_candidate_entries] WARNING: Problem getting name for id: UniProtKB:Q9BYF1\n",
      "WARNING:root:Problem getting name for id: UniProtKB:P0DTC9\n",
      "[target_candidates.py][sars_cov2_human_interactors_to_candidate_entries] WARNING: Problem getting name for id: UniProtKB:P0DTC9\n",
      "WARNING:root:Problem getting name for id: UniProtKB:P0DTD1-PRO_0000449626\n",
      "[target_candidates.py][sars_cov2_human_interactors_to_candidate_entries] WARNING: Problem getting name for id: UniProtKB:P0DTD1-PRO_0000449626\n",
      "WARNING:root:Problem getting name for id: UniProtKB:P0DTD1-PRO_0000449632\n",
      "[target_candidates.py][sars_cov2_human_interactors_to_candidate_entries] WARNING: Problem getting name for id: UniProtKB:P0DTD1-PRO_0000449632\n",
      "WARNING:root:Problem getting name for id: UniProtKB:Q7Z4Q2\n",
      "[target_candidates.py][sars_cov2_human_interactors_to_candidate_entries] WARNING: Problem getting name for id: UniProtKB:Q7Z4Q2\n",
      "WARNING:root:Problem getting name for id: UniProtKB:P0DTC7\n",
      "[target_candidates.py][sars_cov2_human_interactors_to_candidate_entries] WARNING: Problem getting name for id: UniProtKB:P0DTC7\n",
      "WARNING:root:Problem getting name for id: CHEBI:81068\n",
      "[target_candidates.py][sars_cov2_human_interactors_to_candidate_entries] WARNING: Problem getting name for id: CHEBI:81068\n",
      "WARNING:root:Problem getting name for id: CHEBI:147411\n",
      "[target_candidates.py][sars_cov2_human_interactors_to_candidate_entries] WARNING: Problem getting name for id: CHEBI:147411\n",
      "WARNING:root:Problem getting name for id: CHEBI:147376\n",
      "[target_candidates.py][sars_cov2_human_interactors_to_candidate_entries] WARNING: Problem getting name for id: CHEBI:147376\n",
      "WARNING:root:Problem getting name for id: UniProtKB:P61158\n",
      "[target_candidates.py][sars_cov2_human_interactors_to_candidate_entries] WARNING: Problem getting name for id: UniProtKB:P61158\n",
      "WARNING:root:Problem getting name for id: UniProtKB:Q9BYF1-PRO_0000292268\n",
      "[target_candidates.py][sars_cov2_human_interactors_to_candidate_entries] WARNING: Problem getting name for id: UniProtKB:Q9BYF1-PRO_0000292268\n",
      "WARNING:root:Problem getting name for id: UniProtKB:P0DTC4\n",
      "[target_candidates.py][sars_cov2_human_interactors_to_candidate_entries] WARNING: Problem getting name for id: UniProtKB:P0DTC4\n",
      "WARNING:root:Problem getting name for id: UniProtKB:P0DTD2\n",
      "[target_candidates.py][sars_cov2_human_interactors_to_candidate_entries] WARNING: Problem getting name for id: UniProtKB:P0DTD2\n",
      "WARNING:root:Problem getting name for id: UniProtKB:Q92769\n",
      "[target_candidates.py][sars_cov2_human_interactors_to_candidate_entries] WARNING: Problem getting name for id: UniProtKB:Q92769\n",
      "WARNING:root:Problem getting name for id: UniProtKB:Q9NU22\n",
      "[target_candidates.py][sars_cov2_human_interactors_to_candidate_entries] WARNING: Problem getting name for id: UniProtKB:Q9NU22\n",
      "WARNING:root:Problem getting name for id: UniProtKB:P0DTD1-PRO_0000449631\n",
      "[target_candidates.py][sars_cov2_human_interactors_to_candidate_entries] WARNING: Problem getting name for id: UniProtKB:P0DTD1-PRO_0000449631\n"
     ]
    }
   ],
   "source": [
    "from kg_covid_19.query import run_query\n",
    "run_query('TargetCandidates', input_dir=data_dir, output_dir=data_dir)"
   ],
   "metadata": {
    "collapsed": false,
    "pycharm": {
     "name": "#%% Run query on kg-covid-19 for SARS-CoV-2 proteins, and interactors via IntAct\n"
    }
   }
  },
  {
   "cell_type": "code",
   "execution_count": 16,
   "metadata": {
    "pycharm": {
     "name": "#%% Read in data from kg-covid-19 query\n"
    }
   },
   "outputs": [
    {
     "name": "stderr",
     "output_type": "stream",
     "text": [
      "100%|██████████| 144/144 [00:58<00:00,  2.48it/s]\n",
      "100%|██████████| 144/144 [01:10<00:00,  2.05it/s]\n",
      "100%|██████████| 144/144 [01:28<00:00,  1.63it/s]\n"
     ]
    },
    {
     "ename": "ParserError",
     "evalue": "Expected 6 fields in line 39, saw 7. Error could possibly be due to quotes being ignored when a multi-char delimiter is used.",
     "output_type": "error",
     "traceback": [
      "\u001B[0;31m---------------------------------------------------------------------------\u001B[0m",
      "\u001B[0;31mParserError\u001B[0m                               Traceback (most recent call last)",
      "\u001B[0;32m<ipython-input-16-5e148d67796f>\u001B[0m in \u001B[0;36m<module>\u001B[0;34m\u001B[0m\n\u001B[1;32m     21\u001B[0m \u001B[0;31m# add_uniprot_txt_info(uniprot_data_dir, target_info, 'DR', 'PDB;', 'pdb_data')\u001B[0m\u001B[0;34m\u001B[0m\u001B[0;34m\u001B[0m\u001B[0;34m\u001B[0m\u001B[0m\n\u001B[1;32m     22\u001B[0m \u001B[0;31m# add GO annotations\u001B[0m\u001B[0;34m\u001B[0m\u001B[0;34m\u001B[0m\u001B[0;34m\u001B[0m\u001B[0m\n\u001B[0;32m---> 23\u001B[0;31m \u001B[0madd_uniprot_txt_info\u001B[0m\u001B[0;34m(\u001B[0m\u001B[0muniprot_data_dir\u001B[0m\u001B[0;34m,\u001B[0m \u001B[0mtarget_info\u001B[0m\u001B[0;34m,\u001B[0m \u001B[0;34m'DR'\u001B[0m\u001B[0;34m,\u001B[0m \u001B[0;34m'GO\\:'\u001B[0m\u001B[0;34m,\u001B[0m \u001B[0;34m'go_annotations'\u001B[0m\u001B[0;34m)\u001B[0m\u001B[0;34m\u001B[0m\u001B[0;34m\u001B[0m\u001B[0m\n\u001B[0m\u001B[1;32m     24\u001B[0m \u001B[0;34m\u001B[0m\u001B[0m\n\u001B[1;32m     25\u001B[0m target_info.to_csv(path_or_buf=\n",
      "\u001B[0;32m~/PycharmProjects/area1_target_info/retrieve_uniprot.py\u001B[0m in \u001B[0;36madd_uniprot_txt_info\u001B[0;34m(data_dir, viral_data, col_1_str, col_2_str, new_col_name, file_ext)\u001B[0m\n\u001B[1;32m     74\u001B[0m             \u001B[0minfile\u001B[0m \u001B[0;34m=\u001B[0m \u001B[0mos\u001B[0m\u001B[0;34m.\u001B[0m\u001B[0mpath\u001B[0m\u001B[0;34m.\u001B[0m\u001B[0mjoin\u001B[0m\u001B[0;34m(\u001B[0m\u001B[0mdata_dir\u001B[0m\u001B[0;34m,\u001B[0m \u001B[0muniprot_id\u001B[0m \u001B[0;34m+\u001B[0m \u001B[0mfile_ext\u001B[0m\u001B[0;34m)\u001B[0m\u001B[0;34m\u001B[0m\u001B[0;34m\u001B[0m\u001B[0m\n\u001B[1;32m     75\u001B[0m             \u001B[0;32mtry\u001B[0m\u001B[0;34m:\u001B[0m\u001B[0;34m\u001B[0m\u001B[0;34m\u001B[0m\u001B[0m\n\u001B[0;32m---> 76\u001B[0;31m                 \u001B[0mdat\u001B[0m \u001B[0;34m=\u001B[0m \u001B[0mpd\u001B[0m\u001B[0;34m.\u001B[0m\u001B[0mread_csv\u001B[0m\u001B[0;34m(\u001B[0m\u001B[0minfile\u001B[0m\u001B[0;34m,\u001B[0m \u001B[0msep\u001B[0m\u001B[0;34m=\u001B[0m\u001B[0;34m\"   \"\u001B[0m\u001B[0;34m,\u001B[0m \u001B[0mcomment\u001B[0m\u001B[0;34m=\u001B[0m\u001B[0;34m'#'\u001B[0m\u001B[0;34m,\u001B[0m \u001B[0mheader\u001B[0m\u001B[0;34m=\u001B[0m\u001B[0;32mNone\u001B[0m\u001B[0;34m)\u001B[0m\u001B[0;34m\u001B[0m\u001B[0;34m\u001B[0m\u001B[0m\n\u001B[0m\u001B[1;32m     77\u001B[0m             \u001B[0;32mexcept\u001B[0m \u001B[0mEmptyDataError\u001B[0m\u001B[0;34m:\u001B[0m\u001B[0;34m\u001B[0m\u001B[0;34m\u001B[0m\u001B[0m\n\u001B[1;32m     78\u001B[0m                 \u001B[0mnew_col_list\u001B[0m\u001B[0;34m.\u001B[0m\u001B[0mappend\u001B[0m\u001B[0;34m(\u001B[0m\u001B[0;34m''\u001B[0m\u001B[0;34m)\u001B[0m\u001B[0;34m\u001B[0m\u001B[0;34m\u001B[0m\u001B[0m\n",
      "\u001B[0;32m~/PycharmProjects/area1_target_info/venv/lib/python3.7/site-packages/pandas/io/parsers.py\u001B[0m in \u001B[0;36mparser_f\u001B[0;34m(filepath_or_buffer, sep, delimiter, header, names, index_col, usecols, squeeze, prefix, mangle_dupe_cols, dtype, engine, converters, true_values, false_values, skipinitialspace, skiprows, skipfooter, nrows, na_values, keep_default_na, na_filter, verbose, skip_blank_lines, parse_dates, infer_datetime_format, keep_date_col, date_parser, dayfirst, cache_dates, iterator, chunksize, compression, thousands, decimal, lineterminator, quotechar, quoting, doublequote, escapechar, comment, encoding, dialect, error_bad_lines, warn_bad_lines, delim_whitespace, low_memory, memory_map, float_precision)\u001B[0m\n\u001B[1;32m    674\u001B[0m         )\n\u001B[1;32m    675\u001B[0m \u001B[0;34m\u001B[0m\u001B[0m\n\u001B[0;32m--> 676\u001B[0;31m         \u001B[0;32mreturn\u001B[0m \u001B[0m_read\u001B[0m\u001B[0;34m(\u001B[0m\u001B[0mfilepath_or_buffer\u001B[0m\u001B[0;34m,\u001B[0m \u001B[0mkwds\u001B[0m\u001B[0;34m)\u001B[0m\u001B[0;34m\u001B[0m\u001B[0;34m\u001B[0m\u001B[0m\n\u001B[0m\u001B[1;32m    677\u001B[0m \u001B[0;34m\u001B[0m\u001B[0m\n\u001B[1;32m    678\u001B[0m     \u001B[0mparser_f\u001B[0m\u001B[0;34m.\u001B[0m\u001B[0m__name__\u001B[0m \u001B[0;34m=\u001B[0m \u001B[0mname\u001B[0m\u001B[0;34m\u001B[0m\u001B[0;34m\u001B[0m\u001B[0m\n",
      "\u001B[0;32m~/PycharmProjects/area1_target_info/venv/lib/python3.7/site-packages/pandas/io/parsers.py\u001B[0m in \u001B[0;36m_read\u001B[0;34m(filepath_or_buffer, kwds)\u001B[0m\n\u001B[1;32m    452\u001B[0m \u001B[0;34m\u001B[0m\u001B[0m\n\u001B[1;32m    453\u001B[0m     \u001B[0;32mtry\u001B[0m\u001B[0;34m:\u001B[0m\u001B[0;34m\u001B[0m\u001B[0;34m\u001B[0m\u001B[0m\n\u001B[0;32m--> 454\u001B[0;31m         \u001B[0mdata\u001B[0m \u001B[0;34m=\u001B[0m \u001B[0mparser\u001B[0m\u001B[0;34m.\u001B[0m\u001B[0mread\u001B[0m\u001B[0;34m(\u001B[0m\u001B[0mnrows\u001B[0m\u001B[0;34m)\u001B[0m\u001B[0;34m\u001B[0m\u001B[0;34m\u001B[0m\u001B[0m\n\u001B[0m\u001B[1;32m    455\u001B[0m     \u001B[0;32mfinally\u001B[0m\u001B[0;34m:\u001B[0m\u001B[0;34m\u001B[0m\u001B[0;34m\u001B[0m\u001B[0m\n\u001B[1;32m    456\u001B[0m         \u001B[0mparser\u001B[0m\u001B[0;34m.\u001B[0m\u001B[0mclose\u001B[0m\u001B[0;34m(\u001B[0m\u001B[0;34m)\u001B[0m\u001B[0;34m\u001B[0m\u001B[0;34m\u001B[0m\u001B[0m\n",
      "\u001B[0;32m~/PycharmProjects/area1_target_info/venv/lib/python3.7/site-packages/pandas/io/parsers.py\u001B[0m in \u001B[0;36mread\u001B[0;34m(self, nrows)\u001B[0m\n\u001B[1;32m   1131\u001B[0m     \u001B[0;32mdef\u001B[0m \u001B[0mread\u001B[0m\u001B[0;34m(\u001B[0m\u001B[0mself\u001B[0m\u001B[0;34m,\u001B[0m \u001B[0mnrows\u001B[0m\u001B[0;34m=\u001B[0m\u001B[0;32mNone\u001B[0m\u001B[0;34m)\u001B[0m\u001B[0;34m:\u001B[0m\u001B[0;34m\u001B[0m\u001B[0;34m\u001B[0m\u001B[0m\n\u001B[1;32m   1132\u001B[0m         \u001B[0mnrows\u001B[0m \u001B[0;34m=\u001B[0m \u001B[0m_validate_integer\u001B[0m\u001B[0;34m(\u001B[0m\u001B[0;34m\"nrows\"\u001B[0m\u001B[0;34m,\u001B[0m \u001B[0mnrows\u001B[0m\u001B[0;34m)\u001B[0m\u001B[0;34m\u001B[0m\u001B[0;34m\u001B[0m\u001B[0m\n\u001B[0;32m-> 1133\u001B[0;31m         \u001B[0mret\u001B[0m \u001B[0;34m=\u001B[0m \u001B[0mself\u001B[0m\u001B[0;34m.\u001B[0m\u001B[0m_engine\u001B[0m\u001B[0;34m.\u001B[0m\u001B[0mread\u001B[0m\u001B[0;34m(\u001B[0m\u001B[0mnrows\u001B[0m\u001B[0;34m)\u001B[0m\u001B[0;34m\u001B[0m\u001B[0;34m\u001B[0m\u001B[0m\n\u001B[0m\u001B[1;32m   1134\u001B[0m \u001B[0;34m\u001B[0m\u001B[0m\n\u001B[1;32m   1135\u001B[0m         \u001B[0;31m# May alter columns / col_dict\u001B[0m\u001B[0;34m\u001B[0m\u001B[0;34m\u001B[0m\u001B[0;34m\u001B[0m\u001B[0m\n",
      "\u001B[0;32m~/PycharmProjects/area1_target_info/venv/lib/python3.7/site-packages/pandas/io/parsers.py\u001B[0m in \u001B[0;36mread\u001B[0;34m(self, rows)\u001B[0m\n\u001B[1;32m   2456\u001B[0m             \u001B[0mcontent\u001B[0m \u001B[0;34m=\u001B[0m \u001B[0mcontent\u001B[0m\u001B[0;34m[\u001B[0m\u001B[0;36m1\u001B[0m\u001B[0;34m:\u001B[0m\u001B[0;34m]\u001B[0m\u001B[0;34m\u001B[0m\u001B[0;34m\u001B[0m\u001B[0m\n\u001B[1;32m   2457\u001B[0m \u001B[0;34m\u001B[0m\u001B[0m\n\u001B[0;32m-> 2458\u001B[0;31m         \u001B[0malldata\u001B[0m \u001B[0;34m=\u001B[0m \u001B[0mself\u001B[0m\u001B[0;34m.\u001B[0m\u001B[0m_rows_to_cols\u001B[0m\u001B[0;34m(\u001B[0m\u001B[0mcontent\u001B[0m\u001B[0;34m)\u001B[0m\u001B[0;34m\u001B[0m\u001B[0;34m\u001B[0m\u001B[0m\n\u001B[0m\u001B[1;32m   2459\u001B[0m         \u001B[0mdata\u001B[0m \u001B[0;34m=\u001B[0m \u001B[0mself\u001B[0m\u001B[0;34m.\u001B[0m\u001B[0m_exclude_implicit_index\u001B[0m\u001B[0;34m(\u001B[0m\u001B[0malldata\u001B[0m\u001B[0;34m)\u001B[0m\u001B[0;34m\u001B[0m\u001B[0;34m\u001B[0m\u001B[0m\n\u001B[1;32m   2460\u001B[0m \u001B[0;34m\u001B[0m\u001B[0m\n",
      "\u001B[0;32m~/PycharmProjects/area1_target_info/venv/lib/python3.7/site-packages/pandas/io/parsers.py\u001B[0m in \u001B[0;36m_rows_to_cols\u001B[0;34m(self, content)\u001B[0m\n\u001B[1;32m   3111\u001B[0m                     \u001B[0mmsg\u001B[0m \u001B[0;34m+=\u001B[0m \u001B[0;34m\". \"\u001B[0m \u001B[0;34m+\u001B[0m \u001B[0mreason\u001B[0m\u001B[0;34m\u001B[0m\u001B[0;34m\u001B[0m\u001B[0m\n\u001B[1;32m   3112\u001B[0m \u001B[0;34m\u001B[0m\u001B[0m\n\u001B[0;32m-> 3113\u001B[0;31m                 \u001B[0mself\u001B[0m\u001B[0;34m.\u001B[0m\u001B[0m_alert_malformed\u001B[0m\u001B[0;34m(\u001B[0m\u001B[0mmsg\u001B[0m\u001B[0;34m,\u001B[0m \u001B[0mrow_num\u001B[0m \u001B[0;34m+\u001B[0m \u001B[0;36m1\u001B[0m\u001B[0;34m)\u001B[0m\u001B[0;34m\u001B[0m\u001B[0;34m\u001B[0m\u001B[0m\n\u001B[0m\u001B[1;32m   3114\u001B[0m \u001B[0;34m\u001B[0m\u001B[0m\n\u001B[1;32m   3115\u001B[0m         \u001B[0;31m# see gh-13320\u001B[0m\u001B[0;34m\u001B[0m\u001B[0;34m\u001B[0m\u001B[0;34m\u001B[0m\u001B[0m\n",
      "\u001B[0;32m~/PycharmProjects/area1_target_info/venv/lib/python3.7/site-packages/pandas/io/parsers.py\u001B[0m in \u001B[0;36m_alert_malformed\u001B[0;34m(self, msg, row_num)\u001B[0m\n\u001B[1;32m   2870\u001B[0m \u001B[0;34m\u001B[0m\u001B[0m\n\u001B[1;32m   2871\u001B[0m         \u001B[0;32mif\u001B[0m \u001B[0mself\u001B[0m\u001B[0;34m.\u001B[0m\u001B[0merror_bad_lines\u001B[0m\u001B[0;34m:\u001B[0m\u001B[0;34m\u001B[0m\u001B[0;34m\u001B[0m\u001B[0m\n\u001B[0;32m-> 2872\u001B[0;31m             \u001B[0;32mraise\u001B[0m \u001B[0mParserError\u001B[0m\u001B[0;34m(\u001B[0m\u001B[0mmsg\u001B[0m\u001B[0;34m)\u001B[0m\u001B[0;34m\u001B[0m\u001B[0;34m\u001B[0m\u001B[0m\n\u001B[0m\u001B[1;32m   2873\u001B[0m         \u001B[0;32melif\u001B[0m \u001B[0mself\u001B[0m\u001B[0;34m.\u001B[0m\u001B[0mwarn_bad_lines\u001B[0m\u001B[0;34m:\u001B[0m\u001B[0;34m\u001B[0m\u001B[0;34m\u001B[0m\u001B[0m\n\u001B[1;32m   2874\u001B[0m             \u001B[0mbase\u001B[0m \u001B[0;34m=\u001B[0m \u001B[0;34mf\"Skipping line {row_num}: \"\u001B[0m\u001B[0;34m\u001B[0m\u001B[0;34m\u001B[0m\u001B[0m\n",
      "\u001B[0;31mParserError\u001B[0m: Expected 6 fields in line 39, saw 7. Error could possibly be due to quotes being ignored when a multi-char delimiter is used."
     ]
    }
   ],
   "source": [
    "from pandas import read_csv\n",
    "from retrieve_uniprot import get_uniprot_data, add_uniprot_info, add_uniprot_txt_info\n",
    "target_info = read_csv('data/target_candidates.tsv', sep=\"\\t\")\n",
    "\n",
    "target_info.drop(['confidence score','comments'],axis=1, inplace = True)\n",
    "\n",
    "# retrieve uniprot data for viral proteins\n",
    "dl_uniprot_gff = False\n",
    "uniprot_data_dir = os.path.join(data_dir, 'uniprot')\n",
    "if dl_uniprot_gff:\n",
    "    get_uniprot_data(uniprot_data_dir, target_info)\n",
    "\n",
    "# query for glycosylation info\n",
    "add_uniprot_info(uniprot_data_dir, target_info, 2, 'Glycosylation',\n",
    "             'is_glycosylated')\n",
    "add_uniprot_info(uniprot_data_dir, target_info, 2, 'Transmembrane',\n",
    "             'has_transmembrane_domain')\n",
    "\n",
    "# add PDB info, if any\n",
    "# add_uniprot_txt_info(uniprot_data_dir, target_info, 'DR', 'PDB;', 'pdb_data')\n",
    "# add GO annotations\n",
    "add_uniprot_txt_info(uniprot_data_dir, target_info, 'DR', 'GO\\:', 'go_annotations')\n",
    "\n",
    "target_info.to_csv(path_or_buf=\n",
    "                             os.path.join(data_dir, 'target_candidates_plus.tsv'),\n",
    "                         sep=\"\\t\",\n",
    "                         index=False)\n"
   ]
  }
 ],
 "metadata": {
  "kernelspec": {
   "display_name": "Python 3",
   "language": "python",
   "name": "python3"
  },
  "language_info": {
   "codemirror_mode": {
    "name": "ipython",
    "version": 3
   },
   "file_extension": ".py",
   "mimetype": "text/x-python",
   "name": "python",
   "nbconvert_exporter": "python",
   "pygments_lexer": "ipython3",
   "version": "3.7.3"
  }
 },
 "nbformat": 4,
 "nbformat_minor": 1
}