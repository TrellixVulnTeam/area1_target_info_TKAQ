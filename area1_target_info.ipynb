{
 "cells": [
  {
   "cell_type": "code",
   "execution_count": 1,
   "metadata": {},
   "outputs": [
    {
     "name": "stderr",
     "output_type": "stream",
     "text": [
      "WARNING:ToolkitGenerator:class \"pairwise interaction association\" slot \"interacting molecules category\" does not reference an existing slot.  New slot was created.\n",
      "WARNING:ToolkitGenerator:Unrecognized prefix: SEMMEDDB\n",
      "WARNING:ToolkitGenerator:Unrecognized prefix: WD\n",
      "WARNING:ToolkitGenerator:Unrecognized prefix: dct\n",
      "WARNING:ToolkitGenerator:Unrecognized prefix: ExO\n",
      "WARNING:ToolkitGenerator:Unrecognized prefix: HANCESTRO\n",
      "WARNING:ToolkitGenerator:Unrecognized prefix: BioSample\n",
      "WARNING:ToolkitGenerator:Unrecognized prefix: PUBCHEM\n",
      "WARNING:ToolkitGenerator:Unrecognized prefix: GTOPDB\n",
      "WARNING:ToolkitGenerator:Unrecognized prefix: IUPHAR\n",
      "WARNING:ToolkitGenerator:Unrecognized prefix: UNIPROTKB\n",
      "WARNING:ToolkitGenerator:Unrecognized prefix: RNAcentral\n",
      "WARNING:ToolkitGenerator:Unrecognized prefix: IntAct\n",
      "WARNING:ToolkitGenerator:Unrecognized prefix: Reactome\n",
      "WARNING:ToolkitGenerator:Unrecognized prefix: VMC\n",
      "WARNING:ToolkitGenerator:Unrecognized prefix: CAID\n",
      "WARNING:ToolkitGenerator:Unrecognized prefix: CIViC\n",
      "WARNING:ToolkitGenerator:Unrecognized prefix: HGVS\n",
      "WARNING:ToolkitGenerator:Unrecognized prefix: MYVARIANT_HG19\n",
      "WARNING:ToolkitGenerator:Unrecognized prefix: MYVARIANT_HG38\n",
      "WARNING:ToolkitGenerator:Unrecognized prefix: ECTO\n",
      "WARNING:ToolkitGenerator:Unrecognized prefix: PHARMGKB\n"
     ]
    },
    {
     "name": "stdout",
     "output_type": "stream",
     "text": [
      "Area 1 Target info\n"
     ]
    }
   ],
   "source": [
    "import os\n",
    "import re\n",
    "from kg_covid_19.query import run_query\n",
    "from pandas import read_csv\n",
    "import urllib.parse\n",
    "import urllib.request\n",
    "import pandas as pd\n",
    "import io\n",
    "import requests\n",
    "from tqdm import tqdm\n",
    "\n",
    "print(\"Area 1 Target info\")\n",
    "data_dir = 'data'"
   ]
  },
  {
   "cell_type": "code",
   "execution_count": 6,
   "outputs": [],
   "source": [
    "%run load_data.py"
   ],
   "metadata": {
    "collapsed": false,
    "pycharm": {
     "name": "#%% Set up data directory\n"
    }
   }
  },
  {
   "cell_type": "code",
   "execution_count": 26,
   "outputs": [
    {
     "name": "stderr",
     "output_type": "stream",
     "text": [
      "INFO:root:Running query TargetCandidates\n",
      "[query.py][           run_query] INFO: Running query TargetCandidates\n",
      "INFO:root:reading in data files\n",
      "[target_candidates.py][                 run] INFO: reading in data files\n",
      "INFO:root:adding annotated SARS-CoV-2 proteins from annotations\n",
      "[target_candidates.py][                 run] INFO: adding annotated SARS-CoV-2 proteins from annotations\n",
      "INFO:root:adding SARS-CoV-2 proteins PRO_ proteins\n",
      "[target_candidates.py][                 run] INFO: adding SARS-CoV-2 proteins PRO_ proteins\n",
      "INFO:root:adding SARS-CoV-2 proteins present in IntAct\n",
      "[target_candidates.py][                 run] INFO: adding SARS-CoV-2 proteins present in IntAct\n",
      "INFO:root:adding human proteins that interact with SARS-CoV-2 proteinsaccording to IntAct\n",
      "[target_candidates.py][                 run] INFO: adding human proteins that interact with SARS-CoV-2 proteinsaccording to IntAct\n",
      "100%|██████████| 100/100 [00:12<00:00,  8.21it/s]\n",
      "WARNING:root:Problem getting name for id: UniProtKB:Q9BYF1\n",
      "[target_candidates.py][sars_cov2_human_interactors_to_candidate_entries] WARNING: Problem getting name for id: UniProtKB:Q9BYF1\n",
      "WARNING:root:Problem getting name for id: UniProtKB:P0DTC4\n",
      "[target_candidates.py][sars_cov2_human_interactors_to_candidate_entries] WARNING: Problem getting name for id: UniProtKB:P0DTC4\n",
      "WARNING:root:Problem getting name for id: CHEBI:4659\n",
      "[target_candidates.py][sars_cov2_human_interactors_to_candidate_entries] WARNING: Problem getting name for id: CHEBI:4659\n",
      "WARNING:root:Problem getting name for id: UniProtKB:P0DTD1-PRO_0000449632\n",
      "[target_candidates.py][sars_cov2_human_interactors_to_candidate_entries] WARNING: Problem getting name for id: UniProtKB:P0DTD1-PRO_0000449632\n",
      "WARNING:root:Problem getting name for id: UniProtKB:P0DTD1-PRO_0000449631\n",
      "[target_candidates.py][sars_cov2_human_interactors_to_candidate_entries] WARNING: Problem getting name for id: UniProtKB:P0DTD1-PRO_0000449631\n",
      "WARNING:root:Problem getting name for id: UniProtKB:O75347\n",
      "[target_candidates.py][sars_cov2_human_interactors_to_candidate_entries] WARNING: Problem getting name for id: UniProtKB:O75347\n",
      "WARNING:root:Problem getting name for id: UniProtKB:P0DTD8\n",
      "[target_candidates.py][sars_cov2_human_interactors_to_candidate_entries] WARNING: Problem getting name for id: UniProtKB:P0DTD8\n",
      "WARNING:root:Problem getting name for id: CHEBI:147398\n",
      "[target_candidates.py][sars_cov2_human_interactors_to_candidate_entries] WARNING: Problem getting name for id: CHEBI:147398\n",
      "WARNING:root:Problem getting name for id: UniProtKB:P0DTD1-PRO_0000449627\n",
      "[target_candidates.py][sars_cov2_human_interactors_to_candidate_entries] WARNING: Problem getting name for id: UniProtKB:P0DTD1-PRO_0000449627\n",
      "WARNING:root:Problem getting name for id: UniProtKB:P0DTD1-PRO_0000449622\n",
      "[target_candidates.py][sars_cov2_human_interactors_to_candidate_entries] WARNING: Problem getting name for id: UniProtKB:P0DTD1-PRO_0000449622\n",
      "WARNING:root:Problem getting name for id: UniProtKB:Q9NU22\n",
      "[target_candidates.py][sars_cov2_human_interactors_to_candidate_entries] WARNING: Problem getting name for id: UniProtKB:Q9NU22\n",
      "WARNING:root:Problem getting name for id: CHEBI:77543\n",
      "[target_candidates.py][sars_cov2_human_interactors_to_candidate_entries] WARNING: Problem getting name for id: CHEBI:77543\n",
      "WARNING:root:Problem getting name for id: UniProtKB:Q9NXH9\n",
      "[target_candidates.py][sars_cov2_human_interactors_to_candidate_entries] WARNING: Problem getting name for id: UniProtKB:Q9NXH9\n",
      "WARNING:root:Problem getting name for id: UniProtKB:Q695T7\n",
      "[target_candidates.py][sars_cov2_human_interactors_to_candidate_entries] WARNING: Problem getting name for id: UniProtKB:Q695T7\n",
      "WARNING:root:Problem getting name for id: UniProtKB:P0DTD2\n",
      "[target_candidates.py][sars_cov2_human_interactors_to_candidate_entries] WARNING: Problem getting name for id: UniProtKB:P0DTD2\n",
      "WARNING:root:Problem getting name for id: UniProtKB:P61158\n",
      "[target_candidates.py][sars_cov2_human_interactors_to_candidate_entries] WARNING: Problem getting name for id: UniProtKB:P61158\n",
      "WARNING:root:Problem getting name for id: UniProtKB:P0DTC8\n",
      "[target_candidates.py][sars_cov2_human_interactors_to_candidate_entries] WARNING: Problem getting name for id: UniProtKB:P0DTC8\n",
      "WARNING:root:Problem getting name for id: UniProtKB:Q7Z4Q2\n",
      "[target_candidates.py][sars_cov2_human_interactors_to_candidate_entries] WARNING: Problem getting name for id: UniProtKB:Q7Z4Q2\n",
      "WARNING:root:Problem getting name for id: UniProtKB:Q92769\n",
      "[target_candidates.py][sars_cov2_human_interactors_to_candidate_entries] WARNING: Problem getting name for id: UniProtKB:Q92769\n",
      "WARNING:root:Problem getting name for id: UniProtKB:Q9BYF1-PRO_0000292268\n",
      "[target_candidates.py][sars_cov2_human_interactors_to_candidate_entries] WARNING: Problem getting name for id: UniProtKB:Q9BYF1-PRO_0000292268\n",
      "WARNING:root:Problem getting name for id: CHEBI:147376\n",
      "[target_candidates.py][sars_cov2_human_interactors_to_candidate_entries] WARNING: Problem getting name for id: CHEBI:147376\n",
      "WARNING:root:Problem getting name for id: UniProtKB:P0DTC7\n",
      "[target_candidates.py][sars_cov2_human_interactors_to_candidate_entries] WARNING: Problem getting name for id: UniProtKB:P0DTC7\n",
      "WARNING:root:Problem getting name for id: UniProtKB:P0DTD1-PRO_0000449628\n",
      "[target_candidates.py][sars_cov2_human_interactors_to_candidate_entries] WARNING: Problem getting name for id: UniProtKB:P0DTD1-PRO_0000449628\n",
      "WARNING:root:Problem getting name for id: UniProtKB:P0DTC3\n",
      "[target_candidates.py][sars_cov2_human_interactors_to_candidate_entries] WARNING: Problem getting name for id: UniProtKB:P0DTC3\n",
      "WARNING:root:Problem getting name for id: CHEBI:94291\n",
      "[target_candidates.py][sars_cov2_human_interactors_to_candidate_entries] WARNING: Problem getting name for id: CHEBI:94291\n",
      "WARNING:root:Problem getting name for id: UniProtKB:Q9C0B5\n",
      "[target_candidates.py][sars_cov2_human_interactors_to_candidate_entries] WARNING: Problem getting name for id: UniProtKB:Q9C0B5\n",
      "WARNING:root:Problem getting name for id: INTACT:EBI-25498052\n",
      "[target_candidates.py][sars_cov2_human_interactors_to_candidate_entries] WARNING: Problem getting name for id: INTACT:EBI-25498052\n",
      "WARNING:root:Problem getting name for id: UniProtKB:Q7Z5G4\n",
      "[target_candidates.py][sars_cov2_human_interactors_to_candidate_entries] WARNING: Problem getting name for id: UniProtKB:Q7Z5G4\n",
      "WARNING:root:Problem getting name for id: CHEBI:147411\n",
      "[target_candidates.py][sars_cov2_human_interactors_to_candidate_entries] WARNING: Problem getting name for id: CHEBI:147411\n",
      "WARNING:root:Problem getting name for id: UniProtKB:P07203\n",
      "[target_candidates.py][sars_cov2_human_interactors_to_candidate_entries] WARNING: Problem getting name for id: UniProtKB:P07203\n",
      "WARNING:root:Problem getting name for id: UniProtKB:A0A0N7H510\n",
      "[target_candidates.py][sars_cov2_human_interactors_to_candidate_entries] WARNING: Problem getting name for id: UniProtKB:A0A0N7H510\n",
      "WARNING:root:Problem getting name for id: UniProtKB:P0DTD1-PRO_0000449626\n",
      "[target_candidates.py][sars_cov2_human_interactors_to_candidate_entries] WARNING: Problem getting name for id: UniProtKB:P0DTD1-PRO_0000449626\n",
      "WARNING:root:Problem getting name for id: CHEBI:31360\n",
      "[target_candidates.py][sars_cov2_human_interactors_to_candidate_entries] WARNING: Problem getting name for id: CHEBI:31360\n",
      "WARNING:root:Problem getting name for id: UniProtKB:P0DTD1-PRO_0000449625\n",
      "[target_candidates.py][sars_cov2_human_interactors_to_candidate_entries] WARNING: Problem getting name for id: UniProtKB:P0DTD1-PRO_0000449625\n",
      "WARNING:root:Problem getting name for id: UniProtKB:P0DTC9\n",
      "[target_candidates.py][sars_cov2_human_interactors_to_candidate_entries] WARNING: Problem getting name for id: UniProtKB:P0DTC9\n",
      "WARNING:root:Problem getting name for id: UniProtKB:P35613\n",
      "[target_candidates.py][sars_cov2_human_interactors_to_candidate_entries] WARNING: Problem getting name for id: UniProtKB:P35613\n",
      "WARNING:root:Problem getting name for id: UniProtKB:P0DTD1-PRO_0000449619\n",
      "[target_candidates.py][sars_cov2_human_interactors_to_candidate_entries] WARNING: Problem getting name for id: UniProtKB:P0DTD1-PRO_0000449619\n",
      "WARNING:root:Problem getting name for id: UniProtKB:P0DTD1-PRO_0000449633\n",
      "[target_candidates.py][sars_cov2_human_interactors_to_candidate_entries] WARNING: Problem getting name for id: UniProtKB:P0DTD1-PRO_0000449633\n",
      "WARNING:root:Problem getting name for id: UniProtKB:P0DTD1-PRO_0000449620\n",
      "[target_candidates.py][sars_cov2_human_interactors_to_candidate_entries] WARNING: Problem getting name for id: UniProtKB:P0DTD1-PRO_0000449620\n",
      "WARNING:root:Problem getting name for id: UniProtKB:Q9UJZ1\n",
      "[target_candidates.py][sars_cov2_human_interactors_to_candidate_entries] WARNING: Problem getting name for id: UniProtKB:Q9UJZ1\n",
      "WARNING:root:Problem getting name for id: UniProtKB:P0DTD1-PRO_0000449629\n",
      "[target_candidates.py][sars_cov2_human_interactors_to_candidate_entries] WARNING: Problem getting name for id: UniProtKB:P0DTD1-PRO_0000449629\n",
      "WARNING:root:Problem getting name for id: CHEBI:81068\n",
      "[target_candidates.py][sars_cov2_human_interactors_to_candidate_entries] WARNING: Problem getting name for id: CHEBI:81068\n",
      "WARNING:root:Problem getting name for id: UniProtKB:P0DTC6\n",
      "[target_candidates.py][sars_cov2_human_interactors_to_candidate_entries] WARNING: Problem getting name for id: UniProtKB:P0DTC6\n"
     ]
    }
   ],
   "source": [
    "from kg_covid_19.query import run_query\n",
    "run_query('TargetCandidates', input_dir=data_dir, output_dir=data_dir)"
   ],
   "metadata": {
    "collapsed": false,
    "pycharm": {
     "name": "#%% Run query on kg-covid-19 for SARS-CoV-2 proteins, and interactors via IntAct\n"
    }
   }
  },
  {
   "cell_type": "code",
   "execution_count": 2,
   "metadata": {
    "pycharm": {
     "name": "#%% Read in data from kg-covid-19 query\n"
    }
   },
   "outputs": [
    {
     "name": "stderr",
     "output_type": "stream",
     "text": [
      "/Users/jtr4v/PycharmProjects/area1_target_info/retrieve_uniprot.py:63: SettingWithCopyWarning: \n",
      "A value is trying to be set on a copy of a slice from a DataFrame.\n",
      "Try using .loc[row_indexer,col_indexer] = value instead\n",
      "\n",
      "See the caveats in the documentation: https://pandas.pydata.org/pandas-docs/stable/user_guide/indexing.html#returning-a-view-versus-a-copy\n",
      "  viral_data[new_col_name] = new_col_list\n",
      "/Users/jtr4v/PycharmProjects/area1_target_info/retrieve_uniprot.py:76: ParserWarning: Falling back to the 'python' engine because the 'c' engine does not support regex separators (separators > 1 char and different from '\\s+' are interpreted as regex); you can avoid this warning by specifying engine='python'.\n",
      "  dat = pd.read_csv(infile, sep=\"   \", comment='#', header=None)\n",
      "/Users/jtr4v/PycharmProjects/area1_target_info/retrieve_uniprot.py:88: SettingWithCopyWarning: \n",
      "A value is trying to be set on a copy of a slice from a DataFrame.\n",
      "Try using .loc[row_indexer,col_indexer] = value instead\n",
      "\n",
      "See the caveats in the documentation: https://pandas.pydata.org/pandas-docs/stable/user_guide/indexing.html#returning-a-view-versus-a-copy\n",
      "  viral_data[new_col_name] = new_col_list\n"
     ]
    }
   ],
   "source": [
    "from pandas import read_csv\n",
    "from retrieve_uniprot import get_uniprot_data, add_uniprot_info, add_uniprot_txt_info\n",
    "target_info = read_csv('data/target_candidates.tsv', sep=\"\\t\")\n",
    "\n",
    "# focus here on viral proteins\n",
    "viral_target_info = target_info[target_info.species == 'V']\n",
    "\n",
    "# retrieve uniprot data for viral proteins\n",
    "dl_uniprot_gff = False\n",
    "uniprot_data_dir = os.path.join(data_dir, 'uniprot')\n",
    "if dl_uniprot_gff:\n",
    "    get_uniprot_data(uniprot_data_dir, viral_target_info)\n",
    "\n",
    "# query for glycosylation info\n",
    "add_uniprot_info(uniprot_data_dir, viral_target_info, 2, 'Glycosylation',\n",
    "             'is_glycosylated')\n",
    "add_uniprot_info(uniprot_data_dir, viral_target_info, 2, 'Transmembrane',\n",
    "             'has_transmembrane_domain')\n",
    "\n",
    "# add PDB info, if any\n",
    "add_uniprot_txt_info(uniprot_data_dir, viral_target_info, 'DR', 'PDB;', 'pdb_data')\n",
    "# add GO annotations\n",
    "add_uniprot_txt_info(uniprot_data_dir, viral_target_info, 'DR', 'GO\\:', 'go_annotations')\n",
    "\n",
    "viral_target_info.to_csv(path_or_buf=\n",
    "                             os.path.join(data_dir, 'viral_target_candidates.tsv'),\n",
    "                         sep=\"\\t\",\n",
    "                         index=False)\n"
   ]
  }
 ],
 "metadata": {
  "kernelspec": {
   "display_name": "Python 3",
   "language": "python",
   "name": "python3"
  },
  "language_info": {
   "codemirror_mode": {
    "name": "ipython",
    "version": 3
   },
   "file_extension": ".py",
   "mimetype": "text/x-python",
   "name": "python",
   "nbconvert_exporter": "python",
   "pygments_lexer": "ipython3",
   "version": "3.7.3"
  }
 },
 "nbformat": 4,
 "nbformat_minor": 1
}