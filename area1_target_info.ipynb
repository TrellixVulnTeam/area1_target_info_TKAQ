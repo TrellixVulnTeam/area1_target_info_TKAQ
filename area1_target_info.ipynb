{
 "cells": [
  {
   "cell_type": "code",
   "execution_count": 41,
   "metadata": {},
   "outputs": [
    {
     "name": "stdout",
     "output_type": "stream",
     "text": [
      "Area 1 Target info\n"
     ]
    }
   ],
   "source": [
    "import os\n",
    "import tarfile\n",
    "import wget\n",
    "from kg_covid_19.query import run_query\n",
    "\n",
    "print(\"Area 1 Target info\")"
   ]
  },
  {
   "cell_type": "code",
   "execution_count": 42,
   "outputs": [],
   "source": [
    "data_dir = 'data'\n",
    "intact_dir = os.path.join(data_dir, 'transformed', 'intact')\n",
    "sars_genes_dir = os.path.join(data_dir, 'transformed', 'sars_cov_2_gene_annot/')\n",
    "\n",
    "for this_dir in [data_dir, intact_dir, sars_genes_dir]:\n",
    "    os.makedirs(this_dir, exist_ok=True)\n",
    "\n",
    "kg_tar = os.path.join(data_dir, 'kg-covid-19.tar.gz')\n",
    "if not os.path.exists(kg_tar):\n",
    "    wget.download('http://kg-hub.berkeleybop.io/kg-covid-19.tar.gz', data_dir)\n",
    "\n",
    "with tarfile.open(kg_tar) as tar:\n",
    "    tar.extractall(data_dir)\n",
    "\n",
    "for source in [intact_dir, sars_genes_dir]:\n",
    "    pass\n",
    "    wget.download('http://kg-hub.berkeleybop.io/', data_dir)\n",
    "\n"
   ],
   "metadata": {
    "collapsed": false,
    "pycharm": {
     "name": "#%% Set up data directory\n"
    }
   }
  },
  {
   "cell_type": "code",
   "execution_count": null,
   "outputs": [],
   "source": [
    "repo_dir = os.path.join(data_dir, 'kg-covid-19')\n",
    "from kg_covid_19 import query\n",
    "query.run_query('TargetCandidates', input_dir=data_dir, output_dir=data_dir)"
   ],
   "metadata": {
    "collapsed": false,
    "pycharm": {
     "name": "#%%\n"
    }
   }
  },
  {
   "cell_type": "code",
   "execution_count": null,
   "metadata": {},
   "outputs": [],
   "source": []
  }
 ],
 "metadata": {
  "kernelspec": {
   "display_name": "Python 3",
   "language": "python",
   "name": "python3"
  },
  "language_info": {
   "codemirror_mode": {
    "name": "ipython",
    "version": 3
   },
   "file_extension": ".py",
   "mimetype": "text/x-python",
   "name": "python",
   "nbconvert_exporter": "python",
   "pygments_lexer": "ipython3",
   "version": "3.7.3"
  }
 },
 "nbformat": 4,
 "nbformat_minor": 1
}