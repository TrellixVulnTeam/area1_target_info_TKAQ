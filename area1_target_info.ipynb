{
 "cells": [
  {
   "cell_type": "code",
   "execution_count": 16,
   "metadata": {},
   "outputs": [
    {
     "name": "stdout",
     "output_type": "stream",
     "text": [
      "area1_target_info\n"
     ]
    }
   ],
   "source": [
    "import os\n",
    "import tarfile\n",
    "import github\n",
    "import wget\n",
    "\n",
    "print(\"Area 1 Target info\")"
   ]
  },
  {
   "cell_type": "code",
   "execution_count": 19,
   "outputs": [],
   "source": [
    "data_dir = 'data'\n",
    "os.makedirs(data_dir, exist_ok=True)\n",
    "kg_tar = os.path.join(data_dir, 'kg-covid-19.tar.gz')\n",
    "nodes = os.path.join(data_dir, 'merged-kg_nodes.tsv')\n",
    "edges = os.path.join(data_dir, 'merged-kg_edges.tsv')\n",
    "if not os.path.exists(kg_tar):\n",
    "    wget.download('http://kg-hub.berkeleybop.io/kg-covid-19.tar.gz', data_dir)\n",
    "\n",
    "if not os.path.exists(nodes) or os.path.exists(edges):\n",
    "    with tarfile.open(kg_tar) as tar:\n",
    "        tar.extractall(data_dir)\n",
    "\n",
    " gh = github.Github()\n",
    "gh.get_repo('https://github.com/Knowledge-Graph-Hub/kg-covid-19.git')"
   ],
   "metadata": {
    "collapsed": false,
    "pycharm": {
     "name": "#%% Get kg-covid-19 and generate short list\n"
    }
   }
  },
  {
   "cell_type": "code",
   "execution_count": null,
   "metadata": {},
   "outputs": [],
   "source": []
  }
 ],
 "metadata": {
  "kernelspec": {
   "display_name": "Python 3",
   "language": "python",
   "name": "python3"
  },
  "language_info": {
   "codemirror_mode": {
    "name": "ipython",
    "version": 3
   },
   "file_extension": ".py",
   "mimetype": "text/x-python",
   "name": "python",
   "nbconvert_exporter": "python",
   "pygments_lexer": "ipython3",
   "version": "3.7.3"
  }
 },
 "nbformat": 4,
 "nbformat_minor": 1
}