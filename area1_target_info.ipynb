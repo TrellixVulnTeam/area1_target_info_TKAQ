{
 "cells": [
  {
   "cell_type": "code",
   "execution_count": 5,
   "metadata": {},
   "outputs": [
    {
     "name": "stdout",
     "output_type": "stream",
     "text": [
      "Area 1 Target info\n"
     ]
    }
   ],
   "source": [
    "import os\n",
    "import tarfile\n",
    "import wget\n",
    "from kg_covid_19.query import run_query\n",
    "\n",
    "print(\"Area 1 Target info\")"
   ]
  },
  {
   "cell_type": "code",
   "execution_count": 6,
   "outputs": [],
   "source": [
    "data_dir = 'data'\n",
    "intact_path = '/'.join(['transformed', 'intact'])\n",
    "sars_genes_path = '/'.join(['transformed', 'sars_cov_2_gene_annot'])\n",
    "\n",
    "for this_dir in [data_dir,\n",
    "                 os.path.join(data_dir, intact_path),\n",
    "                 os.path.join(data_dir, sars_genes_path)]:\n",
    "    os.makedirs(this_dir, exist_ok=True)\n",
    "\n",
    "kg_nodes = os.path.join(data_dir, 'merged-kg_nodes.tsv')\n",
    "kg_edges = os.path.join(data_dir, 'merged-kg_edges.tsv')\n",
    "if not os.path.exists(kg_nodes) or not os.path.exists(kg_edges):\n",
    "    kg_tar = os.path.join(data_dir, 'kg-covid-19.tar.gz')\n",
    "    if not os.path.exists(kg_tar):\n",
    "        wget.download('http://kg-hub.berkeleybop.io/kg-covid-19.tar.gz', data_dir)\n",
    "    with tarfile.open(kg_tar) as tar:\n",
    "        tar.extractall(data_dir)\n",
    "\n",
    "for path in [intact_path, sars_genes_path]:\n",
    "    node_file = '/'.join([data_dir, path, 'nodes.tsv'])\n",
    "    edge_file = '/'.join([data_dir, path, 'edges.tsv'])\n",
    "    node_url = '/'.join(['http://kg-hub.berkeleybop.io', path, 'nodes.tsv'])\n",
    "    edge_url = '/'.join(['http://kg-hub.berkeleybop.io', path, 'edges.tsv'])\n",
    "    if not os.path.exists(node_file):\n",
    "        wget.download(node_url, node_file)\n",
    "    if not os.path.exists(edge_file):\n",
    "        wget.download(edge_url, edge_file)"
   ],
   "metadata": {
    "collapsed": false,
    "pycharm": {
     "name": "#%% Set up data directory\n"
    }
   }
  },
  {
   "cell_type": "code",
   "execution_count": 7,
   "outputs": [
    {
     "name": "stderr",
     "output_type": "stream",
     "text": [
      "INFO:root:Running query TargetCandidates\n",
      "[query.py][           run_query] INFO: Running query TargetCandidates\n",
      "INFO:root:reading in data files\n",
      "[target_candidates.py][                 run] INFO: reading in data files\n",
      "INFO:root:adding annotated SARS-CoV-2 proteins from annotations\n",
      "[target_candidates.py][                 run] INFO: adding annotated SARS-CoV-2 proteins from annotations\n",
      "INFO:root:adding SARS-CoV-2 proteins PRO_ proteins\n",
      "[target_candidates.py][                 run] INFO: adding SARS-CoV-2 proteins PRO_ proteins\n",
      "INFO:root:adding SARS-CoV-2 proteins present in IntAct\n",
      "[target_candidates.py][                 run] INFO: adding SARS-CoV-2 proteins present in IntAct\n",
      "INFO:root:adding human proteins that interact with SARS-CoV-2 proteinsaccording to IntAct\n",
      "[target_candidates.py][                 run] INFO: adding human proteins that interact with SARS-CoV-2 proteinsaccording to IntAct\n",
      "100%|██████████| 100/100 [00:11<00:00,  8.66it/s]\n",
      "WARNING:root:Problem getting name for id: UniProtKB:Q9BYF1\n",
      "[target_candidates.py][sars_cov2_human_interactors_to_candidate_entries] WARNING: Problem getting name for id: UniProtKB:Q9BYF1\n",
      "WARNING:root:Problem getting name for id: UniProtKB:P0DTC4\n",
      "[target_candidates.py][sars_cov2_human_interactors_to_candidate_entries] WARNING: Problem getting name for id: UniProtKB:P0DTC4\n",
      "WARNING:root:Problem getting name for id: CHEBI:4659\n",
      "[target_candidates.py][sars_cov2_human_interactors_to_candidate_entries] WARNING: Problem getting name for id: CHEBI:4659\n",
      "WARNING:root:Problem getting name for id: UniProtKB:P0DTD1-PRO_0000449632\n",
      "[target_candidates.py][sars_cov2_human_interactors_to_candidate_entries] WARNING: Problem getting name for id: UniProtKB:P0DTD1-PRO_0000449632\n",
      "WARNING:root:Problem getting name for id: UniProtKB:P0DTD1-PRO_0000449631\n",
      "[target_candidates.py][sars_cov2_human_interactors_to_candidate_entries] WARNING: Problem getting name for id: UniProtKB:P0DTD1-PRO_0000449631\n",
      "WARNING:root:Problem getting name for id: UniProtKB:O75347\n",
      "[target_candidates.py][sars_cov2_human_interactors_to_candidate_entries] WARNING: Problem getting name for id: UniProtKB:O75347\n",
      "WARNING:root:Problem getting name for id: UniProtKB:P0DTD8\n",
      "[target_candidates.py][sars_cov2_human_interactors_to_candidate_entries] WARNING: Problem getting name for id: UniProtKB:P0DTD8\n",
      "WARNING:root:Problem getting name for id: CHEBI:147398\n",
      "[target_candidates.py][sars_cov2_human_interactors_to_candidate_entries] WARNING: Problem getting name for id: CHEBI:147398\n",
      "WARNING:root:Problem getting name for id: UniProtKB:P0DTD1-PRO_0000449627\n",
      "[target_candidates.py][sars_cov2_human_interactors_to_candidate_entries] WARNING: Problem getting name for id: UniProtKB:P0DTD1-PRO_0000449627\n",
      "WARNING:root:Problem getting name for id: UniProtKB:P0DTD1-PRO_0000449622\n",
      "[target_candidates.py][sars_cov2_human_interactors_to_candidate_entries] WARNING: Problem getting name for id: UniProtKB:P0DTD1-PRO_0000449622\n",
      "WARNING:root:Problem getting name for id: UniProtKB:Q9NU22\n",
      "[target_candidates.py][sars_cov2_human_interactors_to_candidate_entries] WARNING: Problem getting name for id: UniProtKB:Q9NU22\n",
      "WARNING:root:Problem getting name for id: CHEBI:77543\n",
      "[target_candidates.py][sars_cov2_human_interactors_to_candidate_entries] WARNING: Problem getting name for id: CHEBI:77543\n",
      "WARNING:root:Problem getting name for id: UniProtKB:Q9NXH9\n",
      "[target_candidates.py][sars_cov2_human_interactors_to_candidate_entries] WARNING: Problem getting name for id: UniProtKB:Q9NXH9\n",
      "WARNING:root:Problem getting name for id: UniProtKB:Q695T7\n",
      "[target_candidates.py][sars_cov2_human_interactors_to_candidate_entries] WARNING: Problem getting name for id: UniProtKB:Q695T7\n",
      "WARNING:root:Problem getting name for id: UniProtKB:P0DTD2\n",
      "[target_candidates.py][sars_cov2_human_interactors_to_candidate_entries] WARNING: Problem getting name for id: UniProtKB:P0DTD2\n",
      "WARNING:root:Problem getting name for id: UniProtKB:P61158\n",
      "[target_candidates.py][sars_cov2_human_interactors_to_candidate_entries] WARNING: Problem getting name for id: UniProtKB:P61158\n",
      "WARNING:root:Problem getting name for id: UniProtKB:P0DTC8\n",
      "[target_candidates.py][sars_cov2_human_interactors_to_candidate_entries] WARNING: Problem getting name for id: UniProtKB:P0DTC8\n",
      "WARNING:root:Problem getting name for id: UniProtKB:Q7Z4Q2\n",
      "[target_candidates.py][sars_cov2_human_interactors_to_candidate_entries] WARNING: Problem getting name for id: UniProtKB:Q7Z4Q2\n",
      "WARNING:root:Problem getting name for id: UniProtKB:Q92769\n",
      "[target_candidates.py][sars_cov2_human_interactors_to_candidate_entries] WARNING: Problem getting name for id: UniProtKB:Q92769\n",
      "WARNING:root:Problem getting name for id: UniProtKB:Q9BYF1-PRO_0000292268\n",
      "[target_candidates.py][sars_cov2_human_interactors_to_candidate_entries] WARNING: Problem getting name for id: UniProtKB:Q9BYF1-PRO_0000292268\n",
      "WARNING:root:Problem getting name for id: CHEBI:147376\n",
      "[target_candidates.py][sars_cov2_human_interactors_to_candidate_entries] WARNING: Problem getting name for id: CHEBI:147376\n",
      "WARNING:root:Problem getting name for id: UniProtKB:P0DTC7\n",
      "[target_candidates.py][sars_cov2_human_interactors_to_candidate_entries] WARNING: Problem getting name for id: UniProtKB:P0DTC7\n",
      "WARNING:root:Problem getting name for id: UniProtKB:P0DTD1-PRO_0000449628\n",
      "[target_candidates.py][sars_cov2_human_interactors_to_candidate_entries] WARNING: Problem getting name for id: UniProtKB:P0DTD1-PRO_0000449628\n",
      "WARNING:root:Problem getting name for id: UniProtKB:P0DTC3\n",
      "[target_candidates.py][sars_cov2_human_interactors_to_candidate_entries] WARNING: Problem getting name for id: UniProtKB:P0DTC3\n",
      "WARNING:root:Problem getting name for id: CHEBI:94291\n",
      "[target_candidates.py][sars_cov2_human_interactors_to_candidate_entries] WARNING: Problem getting name for id: CHEBI:94291\n",
      "WARNING:root:Problem getting name for id: UniProtKB:Q9C0B5\n",
      "[target_candidates.py][sars_cov2_human_interactors_to_candidate_entries] WARNING: Problem getting name for id: UniProtKB:Q9C0B5\n",
      "WARNING:root:Problem getting name for id: INTACT:EBI-25498052\n",
      "[target_candidates.py][sars_cov2_human_interactors_to_candidate_entries] WARNING: Problem getting name for id: INTACT:EBI-25498052\n",
      "WARNING:root:Problem getting name for id: UniProtKB:Q7Z5G4\n",
      "[target_candidates.py][sars_cov2_human_interactors_to_candidate_entries] WARNING: Problem getting name for id: UniProtKB:Q7Z5G4\n",
      "WARNING:root:Problem getting name for id: CHEBI:147411\n",
      "[target_candidates.py][sars_cov2_human_interactors_to_candidate_entries] WARNING: Problem getting name for id: CHEBI:147411\n",
      "WARNING:root:Problem getting name for id: UniProtKB:P07203\n",
      "[target_candidates.py][sars_cov2_human_interactors_to_candidate_entries] WARNING: Problem getting name for id: UniProtKB:P07203\n",
      "WARNING:root:Problem getting name for id: UniProtKB:A0A0N7H510\n",
      "[target_candidates.py][sars_cov2_human_interactors_to_candidate_entries] WARNING: Problem getting name for id: UniProtKB:A0A0N7H510\n",
      "WARNING:root:Problem getting name for id: UniProtKB:P0DTD1-PRO_0000449626\n",
      "[target_candidates.py][sars_cov2_human_interactors_to_candidate_entries] WARNING: Problem getting name for id: UniProtKB:P0DTD1-PRO_0000449626\n",
      "WARNING:root:Problem getting name for id: CHEBI:31360\n",
      "[target_candidates.py][sars_cov2_human_interactors_to_candidate_entries] WARNING: Problem getting name for id: CHEBI:31360\n",
      "WARNING:root:Problem getting name for id: UniProtKB:P0DTD1-PRO_0000449625\n",
      "[target_candidates.py][sars_cov2_human_interactors_to_candidate_entries] WARNING: Problem getting name for id: UniProtKB:P0DTD1-PRO_0000449625\n",
      "WARNING:root:Problem getting name for id: UniProtKB:P0DTC9\n",
      "[target_candidates.py][sars_cov2_human_interactors_to_candidate_entries] WARNING: Problem getting name for id: UniProtKB:P0DTC9\n",
      "WARNING:root:Problem getting name for id: UniProtKB:P35613\n",
      "[target_candidates.py][sars_cov2_human_interactors_to_candidate_entries] WARNING: Problem getting name for id: UniProtKB:P35613\n",
      "WARNING:root:Problem getting name for id: UniProtKB:P0DTD1-PRO_0000449619\n",
      "[target_candidates.py][sars_cov2_human_interactors_to_candidate_entries] WARNING: Problem getting name for id: UniProtKB:P0DTD1-PRO_0000449619\n",
      "WARNING:root:Problem getting name for id: UniProtKB:P0DTD1-PRO_0000449633\n",
      "[target_candidates.py][sars_cov2_human_interactors_to_candidate_entries] WARNING: Problem getting name for id: UniProtKB:P0DTD1-PRO_0000449633\n",
      "WARNING:root:Problem getting name for id: UniProtKB:P0DTD1-PRO_0000449620\n",
      "[target_candidates.py][sars_cov2_human_interactors_to_candidate_entries] WARNING: Problem getting name for id: UniProtKB:P0DTD1-PRO_0000449620\n",
      "WARNING:root:Problem getting name for id: UniProtKB:Q9UJZ1\n",
      "[target_candidates.py][sars_cov2_human_interactors_to_candidate_entries] WARNING: Problem getting name for id: UniProtKB:Q9UJZ1\n",
      "WARNING:root:Problem getting name for id: UniProtKB:P0DTD1-PRO_0000449629\n",
      "[target_candidates.py][sars_cov2_human_interactors_to_candidate_entries] WARNING: Problem getting name for id: UniProtKB:P0DTD1-PRO_0000449629\n",
      "WARNING:root:Problem getting name for id: CHEBI:81068\n",
      "[target_candidates.py][sars_cov2_human_interactors_to_candidate_entries] WARNING: Problem getting name for id: CHEBI:81068\n",
      "WARNING:root:Problem getting name for id: UniProtKB:P0DTC6\n",
      "[target_candidates.py][sars_cov2_human_interactors_to_candidate_entries] WARNING: Problem getting name for id: UniProtKB:P0DTC6\n"
     ]
    }
   ],
   "source": [
    "repo_dir = os.path.join(data_dir, 'kg-covid-19')\n",
    "from kg_covid_19.query import run_query\n",
    "run_query('TargetCandidates', input_dir=data_dir, output_dir=data_dir)"
   ],
   "metadata": {
    "collapsed": false,
    "pycharm": {
     "name": "#%% Run query on kg-covid-19 for SARS-CoV-2 proteins, and interactors via IntAct\n"
    }
   }
  },
  {
   "cell_type": "code",
   "execution_count": 7,
   "metadata": {},
   "outputs": [],
   "source": []
  }
 ],
 "metadata": {
  "kernelspec": {
   "display_name": "Python 3",
   "language": "python",
   "name": "python3"
  },
  "language_info": {
   "codemirror_mode": {
    "name": "ipython",
    "version": 3
   },
   "file_extension": ".py",
   "mimetype": "text/x-python",
   "name": "python",
   "nbconvert_exporter": "python",
   "pygments_lexer": "ipython3",
   "version": "3.7.3"
  }
 },
 "nbformat": 4,
 "nbformat_minor": 1
}